{
 "cells": [
  {
   "cell_type": "code",
   "execution_count": null,
   "metadata": {
    "_uuid": "7943b37be819d5af9dc55a62e944d50c44a90b95"
   },
   "outputs": [],
   "source": [
    "##Importing the packages\n",
    "#Data processing packages\n",
    "import numpy as np \n",
    "import pandas as pd \n",
    "from pandas.api.types import is_numeric_dtype, is_object_dtype, is_string_dtype\n",
    "\n",
    "#Visualization packages\n",
    "import matplotlib.pyplot as plt \n",
    "import seaborn as sns \n",
    "\n",
    "#Machine Learning packages\n",
    "from sklearn.svm import SVC, NuSVC\n",
    "from sklearn.neighbors import KNeighborsClassifier\n",
    "from sklearn.naive_bayes import GaussianNB, MultinomialNB\n",
    "from sklearn.linear_model import SGDClassifier, LogisticRegression\n",
    "from sklearn.tree import DecisionTreeClassifier, ExtraTreeClassifier\n",
    "from sklearn.discriminant_analysis import QuadraticDiscriminantAnalysis, LinearDiscriminantAnalysis\n",
    "from sklearn.ensemble import RandomForestClassifier, AdaBoostClassifier, GradientBoostingClassifier\n",
    "from sklearn.metrics import accuracy_score\n",
    "from sklearn.preprocessing import LabelEncoder, OneHotEncoder, StandardScaler\n",
    "from sklearn.model_selection import train_test_split\n",
    "from sklearn.metrics import confusion_matrix, precision_score, recall_score, f1_score\n",
    "\n",
    "#Suppress warnings\n",
    "import warnings\n",
    "warnings.filterwarnings('ignore')\n",
    "\n",
    "import pickle"
   ]
  },
  {
   "cell_type": "code",
   "execution_count": null,
   "metadata": {
    "_uuid": "14950e6f44b6a41abf28550b087d735ca66142e7"
   },
   "outputs": [],
   "source": [
    "#Import Employee Attrition data\n",
    "data=pd.read_csv('customerdata.csv')\n",
    "pd.set_option('display.max_columns', data.shape[1])"
   ]
  },
  {
   "cell_type": "code",
   "execution_count": null,
   "metadata": {
    "_uuid": "14950e6f44b6a41abf28550b087d735ca66142e7"
   },
   "outputs": [],
   "source": [
    "data.head()"
   ]
  },
  {
   "cell_type": "code",
   "execution_count": null,
   "metadata": {},
   "outputs": [],
   "source": [
    "data.columns"
   ]
  },
  {
   "cell_type": "code",
   "execution_count": null,
   "metadata": {},
   "outputs": [],
   "source": [
    "data.drop(columns=['gender', 'city'], inplace=True)"
   ]
  },
  {
   "cell_type": "code",
   "execution_count": null,
   "metadata": {},
   "outputs": [],
   "source": [
    "data.describe()"
   ]
  },
  {
   "cell_type": "code",
   "execution_count": null,
   "metadata": {},
   "outputs": [],
   "source": [
    "for index, element in enumerate(data['age']):\n",
    "    if(element<30):\n",
    "        data.at[index, 'age'] = 1\n",
    "    elif(element>=30 and element<40):\n",
    "        data.at[index, 'age'] = 2\n",
    "    elif(element>=40 and element<50):\n",
    "        data.at[index, 'age'] = 3\n",
    "    elif(element>=50 and element<=60):\n",
    "        data.at[index, 'age'] = 4"
   ]
  },
  {
   "cell_type": "code",
   "execution_count": null,
   "metadata": {},
   "outputs": [],
   "source": [
    "data.head()"
   ]
  },
  {
   "cell_type": "code",
   "execution_count": null,
   "metadata": {},
   "outputs": [],
   "source": [
    "predicted_column = input(\"Enter the column to be predicted: \")\n",
    "predicted_column = ''.join(predicted_column.strip().split())\n",
    "predicted_column"
   ]
  },
  {
   "cell_type": "code",
   "execution_count": null,
   "metadata": {
    "_uuid": "a9bc3f4f6731530470f28cb108c4cca63fe0c7b3"
   },
   "outputs": [],
   "source": [
    "data.describe(include='all')"
   ]
  },
  {
   "cell_type": "code",
   "execution_count": null,
   "metadata": {},
   "outputs": [],
   "source": [
    "# is_string_dtype(data['city'])"
   ]
  },
  {
   "cell_type": "code",
   "execution_count": null,
   "metadata": {
    "_uuid": "8a54b4f5fdc999c50a6f396e5bae98f5a145f860"
   },
   "outputs": [],
   "source": [
    "#These fields does not add value, hence removed\n",
    "dropped_cols = []\n",
    "for col in data.columns:\n",
    "    if(is_string_dtype(data[col])):\n",
    "        if(len(data[col].unique())==1):\n",
    "            dropped_cols.append(col)\n",
    "    elif(is_numeric_dtype(data[col])):\n",
    "        if(data[col].std(axis=0)==0.0):\n",
    "            dropped_cols.append(col)\n",
    "print(\"Non-value-adding Columns:\", dropped_cols)"
   ]
  },
  {
   "cell_type": "code",
   "execution_count": null,
   "metadata": {},
   "outputs": [],
   "source": [
    "# data.drop(columns=dropped_cols, inplace=True)"
   ]
  },
  {
   "cell_type": "code",
   "execution_count": null,
   "metadata": {},
   "outputs": [],
   "source": [
    "is_object_dtype(data[predicted_column])"
   ]
  },
  {
   "cell_type": "code",
   "execution_count": null,
   "metadata": {},
   "outputs": [],
   "source": [
    "one_hot_cols = []\n",
    "label_enc_cols = []\n",
    "for col in data.columns:\n",
    "    if(is_string_dtype(data[col]) or is_object_dtype(data[col])):\n",
    "        if(len(data[col].unique())>2 and col != predicted_column):\n",
    "            one_hot_cols.append(col)\n",
    "        label_enc_cols.append(col)\n",
    "        label_enc = LabelEncoder()\n",
    "        data[col] = label_enc.fit_transform(data[col])\n",
    "        pickle.dump(label_enc, open(col+'_label_enc.encoder', 'wb'))\n",
    "print(one_hot_cols)\n",
    "print(label_enc_cols)"
   ]
  },
  {
   "cell_type": "code",
   "execution_count": null,
   "metadata": {},
   "outputs": [],
   "source": [
    "data.head()"
   ]
  },
  {
   "cell_type": "code",
   "execution_count": null,
   "metadata": {
    "_uuid": "2a4a673681e8bf7f0cfed796fead9ca6deff869c"
   },
   "outputs": [],
   "source": [
    "# A lambda function is a small anonymous function.\n",
    "# A lambda function can take any number of arguments, but can only have one expression.\n",
    "# data[predicted_column]=data[predicted_column].apply(lambda x : 1 if x=='Yes' else 0)"
   ]
  },
  {
   "cell_type": "code",
   "execution_count": null,
   "metadata": {},
   "outputs": [],
   "source": [
    "plt.figure(figsize=(5,5))\n",
    "sns.heatmap(data.corr(), annot=True)"
   ]
  },
  {
   "cell_type": "code",
   "execution_count": null,
   "metadata": {},
   "outputs": [],
   "source": [
    "data.drop(predicted_column, axis=1).apply(lambda x: round(x.corr(data[predicted_column])*100, 2))"
   ]
  },
  {
   "cell_type": "markdown",
   "metadata": {
    "_uuid": "a91e5b06a59e7dcb7d3abf2f2ab112f12f51ca63"
   },
   "source": [
    "### **Separating the Feature and Target Matrices**"
   ]
  },
  {
   "cell_type": "code",
   "execution_count": null,
   "metadata": {},
   "outputs": [],
   "source": [
    "X = data.drop(columns=[predicted_column])\n",
    "y = data[predicted_column]"
   ]
  },
  {
   "cell_type": "code",
   "execution_count": null,
   "metadata": {},
   "outputs": [],
   "source": [
    "y.name == predicted_column"
   ]
  },
  {
   "cell_type": "markdown",
   "metadata": {
    "_uuid": "4fd92922d5004e35103266720da2d067b9f8e2f7"
   },
   "source": [
    "### **Convert Categorical values to Numeric Values**"
   ]
  },
  {
   "cell_type": "code",
   "execution_count": null,
   "metadata": {
    "_uuid": "e0b921c150f4c9b86ffafa4c22d76b226d8b154c"
   },
   "outputs": [],
   "source": [
    "#This function is used to convert Categorical values to Numerical values\n",
    "# drop_first_col = False\n",
    "# X = pd.get_dummies(X, columns=one_hot_cols, drop_first=drop_first_col)\n",
    "### pickle.dump(X.columns, open('train_data.columns', 'wb'))\n",
    "### testData.reindex(columns = pickle.load(open('train_data.columns', 'rb')), fill_value = 0)"
   ]
  },
  {
   "cell_type": "code",
   "execution_count": null,
   "metadata": {
    "_uuid": "fd17bd81eb010133d514d681237affd50eb8352c"
   },
   "outputs": [],
   "source": [
    "X.head()"
   ]
  },
  {
   "cell_type": "markdown",
   "metadata": {
    "_uuid": "68c2e85de21b089b5a8e1b4f9faa6baece67f36d"
   },
   "source": [
    "**COMMENT:** It can be seen from the difference in the output of **data.head()** before and after the coversion that now **ALL the fields have numerical values.**"
   ]
  },
  {
   "cell_type": "markdown",
   "metadata": {
    "_uuid": "dd00683a136136a16aaa40ec1c2e3df6bb141784"
   },
   "source": [
    "### **Scaling the data values to standardize the range of independent variables**"
   ]
  },
  {
   "cell_type": "code",
   "execution_count": null,
   "metadata": {
    "_uuid": "4150070d8f9eb9450352f098de2f3da2bee43d22"
   },
   "outputs": [],
   "source": [
    "#Feature scaling is a method used to standardize the range of independent variables or features of data.\n",
    "#Since the range of values of raw data varies widely, in some machine learning algorithms, objective functions will not work properly without normalization. \n",
    "scaler_X = StandardScaler()\n",
    "X = scaler_X.fit_transform(X)\n",
    "pickle.dump(scaler_X, open('scaler_X.scaler', 'wb'))"
   ]
  },
  {
   "cell_type": "markdown",
   "metadata": {
    "_uuid": "fb1d114fb4ac21a08114c732a9df9d0c5de1ce42"
   },
   "source": [
    "### **Split the data into Training set and Testing set**"
   ]
  },
  {
   "cell_type": "code",
   "execution_count": null,
   "metadata": {
    "_uuid": "4963cb9755ecb9cdf9357747e9f807f7d786e01e"
   },
   "outputs": [],
   "source": [
    "# Split the data into Training set and Testing set\n",
    "X_train, X_test, y_train, y_test = train_test_split(X, y.values, test_size=0.2, random_state=42)"
   ]
  },
  {
   "cell_type": "markdown",
   "metadata": {
    "_uuid": "42c208737f3cb47dcb1fd4f217cab6e17dffa1c1"
   },
   "source": [
    "### **Function definition**"
   ]
  },
  {
   "cell_type": "code",
   "execution_count": null,
   "metadata": {
    "_uuid": "42941967023bbb91e07c9150cc988f5276331ced"
   },
   "outputs": [],
   "source": [
    "#Function to Train and Test Machine Learning Model\n",
    "def train_test_ml_model(X_train,y_train,X_test,Model):\n",
    "    global model\n",
    "#     model = CalibratedClassifierCV(model)\n",
    "    model.fit(X_train, y_train) #Train the Model\n",
    "    y_pred = model.predict(X_test) #Use the Model for prediction\n",
    "\n",
    "    # Test the Model\n",
    "    from sklearn.metrics import confusion_matrix\n",
    "    cm = confusion_matrix(y_test,y_pred)\n",
    "\n",
    "    #Plot/Display the results\n",
    "    # cm_plot(cm,Model)\n",
    "    print('Accuracy of the Model' , Model, str(round(100*model.score(X_test, y_test),2))+'%')\n",
    "    print('Precision of the Model' , Model, str(round(100*precision_score(y_test, y_pred, average='weighted'),2))+'%')\n",
    "    print('Recall of the Model' , Model, str(round(100*recall_score(y_test, y_pred, average='weighted'), 2))+'%')\n",
    "    print('F1 Score of the Model' , Model, str(round(100*f1_score(y_test, y_pred, average='weighted'), 2))+'%')"
   ]
  },
  {
   "cell_type": "code",
   "execution_count": null,
   "metadata": {
    "_uuid": "8df99340240154b9374b778449f0eea7f7253486"
   },
   "outputs": [],
   "source": [
    "#Function to plot Confusion Matrix\n",
    "def cm_plot(cm,Model):\n",
    "    plt.clf()\n",
    "    plt.imshow(cm, interpolation='nearest', cmap=plt.cm.Wistia)\n",
    "    classNames = np.flip(y.unique())\n",
    "    plt.title('Comparison of Prediction Result for '+ Model)\n",
    "    plt.ylabel('True label')\n",
    "    plt.xlabel('Predicted label')\n",
    "    tick_marks = np.arange(len(classNames))\n",
    "    plt.xticks(tick_marks, classNames, rotation=45)\n",
    "    plt.yticks(tick_marks, classNames)\n",
    "    s = [['TN','FP'], ['FN', 'TP']]\n",
    "    for i in range(2):\n",
    "        for j in range(2):\n",
    "            plt.text(j,i, str(s[i][j])+\" = \"+str(cm[i][j]))\n",
    "    plt.show()"
   ]
  },
  {
   "cell_type": "markdown",
   "metadata": {
    "_uuid": "6a0c7cbe477e6f2485bb68614d4f2fabd4a3a9e9"
   },
   "source": [
    "### **PERFORM PREDICTIONS USING MACHINE LEARNING ALGORITHMS**"
   ]
  },
  {
   "cell_type": "code",
   "execution_count": null,
   "metadata": {
    "_uuid": "6fd145768bb3931943590434e36e40a60699efc7"
   },
   "outputs": [],
   "source": [
    "from sklearn.svm import SVC  #Import packages related to Model\n",
    "from sklearn.calibration import CalibratedClassifierCV\n",
    "Model = \"SVC\"\n",
    "# model=CalibratedClassifierCV(SVC()) #Create the Model\n",
    "# model.fit(X_train, y_train)\n",
    "# train_test_ml_model(X_train, y_train, X_test, Model)\n",
    "pickle.dump(model, open('CalibratedSVC_age.model', 'wb'))"
   ]
  },
  {
   "cell_type": "code",
   "execution_count": null,
   "metadata": {
    "_uuid": "022034c511aa23d6597737abd2e781a80234b256"
   },
   "outputs": [],
   "source": [
    "from sklearn.svm import NuSVC  #Import packages related to Model\n",
    "Model = \"NuSVC\"\n",
    "model=NuSVC(nu=0.285)#Create the Model\n",
    "\n",
    "train_test_ml_model(X_train,y_train,X_test,Model)"
   ]
  },
  {
   "cell_type": "code",
   "execution_count": null,
   "metadata": {
    "_uuid": "d1da3e139e7ae3a1ae6e0f166a8a6e5d2e65b187"
   },
   "outputs": [],
   "source": [
    "# from xgboost import XGBClassifier  #Import packages related to Model\n",
    "# Model = \"XGBClassifier()\"\n",
    "# model=XGBClassifier() #Create the Model\n",
    "\n",
    "# train_test_ml_model(X_train,y_train,X_test,Model)"
   ]
  },
  {
   "cell_type": "code",
   "execution_count": null,
   "metadata": {
    "_uuid": "f14541f8ef3cf25d11a1b847460c7dc680092c36"
   },
   "outputs": [],
   "source": [
    "from sklearn.neighbors import KNeighborsClassifier  #Import packages related to Model\n",
    "Model = \"KNeighborsClassifier\"\n",
    "model=KNeighborsClassifier(n_neighbors=7)\n",
    "\n",
    "# train_test_ml_model(X_train,y_train,X_test,Model)\n",
    "\n",
    "model2 = CalibratedClassifierCV(KNeighborsClassifier(n_neighbors=7))\n",
    "model2.fit(X_train, y_train)\n",
    "print(model2.score(X_test, y_test))\n",
    "# pickle.dump(model2, open('CalibratedKNN.model', 'wb'))"
   ]
  },
  {
   "cell_type": "code",
   "execution_count": null,
   "metadata": {
    "_uuid": "7a5a40255f4e236975e80f9a0712edc4302fee16"
   },
   "outputs": [],
   "source": [
    "from sklearn.naive_bayes import GaussianNB  #Import packages related to Model\n",
    "Model = \"GaussianNB\"\n",
    "model=GaussianNB()\n",
    "\n",
    "train_test_ml_model(X_train,y_train,X_test,Model)"
   ]
  },
  {
   "cell_type": "code",
   "execution_count": null,
   "metadata": {
    "_uuid": "57c1f0f2d8964a492d41cb1844857f915570b262"
   },
   "outputs": [],
   "source": [
    "from sklearn.linear_model import SGDClassifier #Import packages related to Model\n",
    "Model = \"SGDClassifier\"\n",
    "model=SGDClassifier()\n",
    "\n",
    "train_test_ml_model(X_train,y_train,X_test,Model)"
   ]
  },
  {
   "cell_type": "code",
   "execution_count": null,
   "metadata": {
    "_uuid": "5a1526fe000e1e1897b29db76f7b08e57ea26c19"
   },
   "outputs": [],
   "source": [
    "from sklearn.linear_model import LogisticRegression #Import packages related to Model\n",
    "Model = \"LogisticRegression\"\n",
    "model=LogisticRegression()\n",
    "\n",
    "train_test_ml_model(X_train,y_train,X_test,Model)"
   ]
  },
  {
   "cell_type": "code",
   "execution_count": null,
   "metadata": {
    "_uuid": "906f5618925570f2748fc4cfa8877096cf911099"
   },
   "outputs": [],
   "source": [
    "from sklearn.tree import DecisionTreeClassifier #Import packages related to Model\n",
    "Model = \"DecisionTreeClassifier\"\n",
    "model=DecisionTreeClassifier()\n",
    "\n",
    "train_test_ml_model(X_train,y_train,X_test,Model)"
   ]
  },
  {
   "cell_type": "code",
   "execution_count": null,
   "metadata": {
    "_uuid": "afa73412146c9d80a3d4dc81d53e3ea87eab210f"
   },
   "outputs": [],
   "source": [
    "from sklearn.tree import ExtraTreeClassifier #Import packages related to Model\n",
    "Model = \"ExtraTreeClassifier\"\n",
    "model=ExtraTreeClassifier()\n",
    "\n",
    "train_test_ml_model(X_train,y_train,X_test,Model)"
   ]
  },
  {
   "cell_type": "code",
   "execution_count": null,
   "metadata": {
    "_uuid": "69c0c3872acb01875b039f487c7f082540068101"
   },
   "outputs": [],
   "source": [
    "from sklearn.discriminant_analysis import QuadraticDiscriminantAnalysis #Import packages related to Model\n",
    "Model = \"QuadraticDiscriminantAnalysis\"\n",
    "model = QuadraticDiscriminantAnalysis()\n",
    "\n",
    "train_test_ml_model(X_train,y_train,X_test,Model)"
   ]
  },
  {
   "cell_type": "code",
   "execution_count": null,
   "metadata": {
    "_uuid": "65fe0e3f2d86039cb0ddb1b8a3c0bf96a3414897"
   },
   "outputs": [],
   "source": [
    "from sklearn.discriminant_analysis import LinearDiscriminantAnalysis #Import packages related to Model\n",
    "Model = \"LinearDiscriminantAnalysis\"\n",
    "model=LinearDiscriminantAnalysis()\n",
    "\n",
    "train_test_ml_model(X_train,y_train,X_test,Model)"
   ]
  },
  {
   "cell_type": "code",
   "execution_count": null,
   "metadata": {
    "_uuid": "686bcf3923c9d348f742c55e532c49657253b7d4"
   },
   "outputs": [],
   "source": [
    "from sklearn.ensemble import RandomForestClassifier #Import packages related to Model\n",
    "Model = \"RandomForestClassifier\"\n",
    "model=RandomForestClassifier()\n",
    "\n",
    "train_test_ml_model(X_train,y_train,X_test,Model)"
   ]
  },
  {
   "cell_type": "code",
   "execution_count": null,
   "metadata": {
    "_uuid": "1a23138cc7a76a307664798e09ca69c3175edfe3"
   },
   "outputs": [],
   "source": [
    "from sklearn.ensemble import AdaBoostClassifier #Import packages related to Model\n",
    "Model = \"AdaBoostClassifier\"\n",
    "model=AdaBoostClassifier()\n",
    "\n",
    "train_test_ml_model(X_train,y_train,X_test,Model)"
   ]
  },
  {
   "cell_type": "code",
   "execution_count": null,
   "metadata": {
    "_uuid": "795e7ae8335e6e2642ee35e7798d7c28a23559a0"
   },
   "outputs": [],
   "source": [
    "from sklearn.ensemble import GradientBoostingClassifier #Import packages related to Model\n",
    "Model = \"GradientBoostingClassifier\"\n",
    "model=GradientBoostingClassifier()\n",
    "\n",
    "train_test_ml_model(X_train,y_train,X_test,Model)"
   ]
  },
  {
   "cell_type": "code",
   "execution_count": null,
   "metadata": {},
   "outputs": [],
   "source": []
  },
  {
   "cell_type": "code",
   "execution_count": null,
   "metadata": {},
   "outputs": [],
   "source": []
  },
  {
   "cell_type": "code",
   "execution_count": null,
   "metadata": {},
   "outputs": [],
   "source": []
  }
 ],
 "metadata": {
  "kernelspec": {
   "display_name": "Python 3",
   "language": "python",
   "name": "python3"
  },
  "language_info": {
   "codemirror_mode": {
    "name": "ipython",
    "version": 3
   },
   "file_extension": ".py",
   "mimetype": "text/x-python",
   "name": "python",
   "nbconvert_exporter": "python",
   "pygments_lexer": "ipython3",
   "version": "3.7.3"
  }
 },
 "nbformat": 4,
 "nbformat_minor": 1
}
